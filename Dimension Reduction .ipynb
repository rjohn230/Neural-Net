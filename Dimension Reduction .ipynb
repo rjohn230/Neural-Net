{
 "cells": [
  {
   "cell_type": "code",
   "execution_count": 1,
   "metadata": {
    "collapsed": true
   },
   "outputs": [],
   "source": [
    "import pandas as pd\n",
    "import matplotlib.pyplot as plt\n",
    "import numpy as np\n",
    "from sklearn.model_selection import train_test_split\n",
    "from sklearn.preprocessing import StandardScaler\n",
    "from sklearn.linear_model import LinearRegression\n",
    "\n",
    "#Dressing The Data Set\n",
    "df = pd.read_csv('Most-Recent-Cohorts-Treasury-Elements.csv')\n",
    "column_selector=[] # picks columns 5 thru 12 and 14 through the rest\n",
    "for i in range(92):\n",
    "        if(i<5 or i==13): #these columns are exclude from the dataset\n",
    "            column_selector.append(False)\n",
    "        else:\n",
    "            column_selector.append(True) #these are accepted\n",
    "\n",
    "    \n",
    "PcaX = df.iloc[:, column_selector ].values   # features\n",
    "Pcay = df.iloc[:, 13].values #target MEDIAN HH INC\n",
    "\n",
    "\n",
    "LdaX = df.iloc[:, column_selector].values   \n",
    "Lday = df.iloc[:, 13].values\n",
    "\n",
    "FaX = df.iloc[:, column_selector].values  \n",
    "Fay = df.iloc[:, 13].values\n",
    "\n",
    "PcaX_train, PcaX_test, Pcay_train, Pcay_test = train_test_split(PcaX, Pcay, test_size=0.25)\n",
    "LdaX_train, LdaX_test, Lday_train, Lday_test = train_test_split(LdaX, Lday, test_size=0.25)\n",
    "FaX_train, FaX_test, Fay_train, Fay_test = train_test_split(FaX, Fay, test_size=0.25)\n"
   ]
  },
  {
   "cell_type": "code",
   "execution_count": 2,
   "metadata": {},
   "outputs": [],
   "source": [
    "#Principal Component Analysis\n",
    "# Always scale data for good results on PCA\n",
    "\n",
    "PcaX_scale = StandardScaler()\n",
    "PcaX_train = PcaX_scale.fit_transform(PcaX_train)\n",
    "PcaX_test = PcaX_scale.transform(PcaX_test)\n",
    "\n",
    "#PCA Part\n",
    "from sklearn.decomposition import PCA\n",
    "pca = PCA(n_components=None)\n",
    "pca.fit_transform(PcaX_train)\n",
    "pca = PCA(n_components=2)\n",
    "PcaX_train = pca.fit_transform(PcaX_train)\n",
    "PcaX_test = pca.transform(PcaX_test)\n",
    "\n"
   ]
  },
  {
   "cell_type": "code",
   "execution_count": 3,
   "metadata": {},
   "outputs": [
    {
     "name": "stderr",
     "output_type": "stream",
     "text": [
      "C:\\Program Files (x86)\\Microsoft Visual Studio\\Shared\\Anaconda3_64\\lib\\site-packages\\sklearn\\discriminant_analysis.py:442: UserWarning: The priors do not sum to 1. Renormalizing\n",
      "  UserWarning)\n",
      "C:\\Program Files (x86)\\Microsoft Visual Studio\\Shared\\Anaconda3_64\\lib\\site-packages\\sklearn\\discriminant_analysis.py:388: UserWarning: Variables are collinear.\n",
      "  warnings.warn(\"Variables are collinear.\")\n"
     ]
    }
   ],
   "source": [
    "\n",
    "# Split in training and testing\n",
    "\n",
    "# Scale\n",
    "LdaX_scale = StandardScaler()\n",
    "LdaX_train = LdaX_scale.fit_transform(LdaX_train)\n",
    "LdaX_test = LdaX_scale.transform(LdaX_test)\n",
    "\n",
    "from sklearn.discriminant_analysis import LinearDiscriminantAnalysis\n",
    "lda = LinearDiscriminantAnalysis(n_components=2)\n",
    "# since LDA is supervised, also need to pass y_train\n",
    "LdaX_train = lda.fit_transform(LdaX_train.astype(int), Lday_train.astype(int))\n",
    "LdaX_test = lda.transform(LdaX_test)\n",
    "\n"
   ]
  },
  {
   "cell_type": "code",
   "execution_count": 4,
   "metadata": {
    "collapsed": true
   },
   "outputs": [],
   "source": [
    "\n",
    "# Split in training and testing\n",
    "\n",
    "\n",
    "# Always scale data for good results on PCA\n",
    "FaX_scale = StandardScaler()\n",
    "FaX_train = FaX_scale.fit_transform(FaX_train)\n",
    "FaX_test = FaX_scale.transform(FaX_test)\n",
    "\n",
    "from sklearn.decomposition import FactorAnalysis\n",
    "fa = FactorAnalysis(n_components=2)\n",
    "FaX_train = fa.fit_transform(FaX_train)\n",
    "FaX_test = fa.transform(FaX_test)\n"
   ]
  },
  {
   "cell_type": "code",
   "execution_count": 5,
   "metadata": {},
   "outputs": [
    {
     "data": {
      "text/plain": [
       "0.40949654492025417"
      ]
     },
     "execution_count": 5,
     "metadata": {},
     "output_type": "execute_result"
    }
   ],
   "source": [
    "\n",
    "clf = LinearRegression()\n",
    "clf.fit(PcaX_train,Pcay_train)\n",
    "clf.score(PcaX_test,Pcay_test)\n"
   ]
  },
  {
   "cell_type": "code",
   "execution_count": 6,
   "metadata": {},
   "outputs": [
    {
     "data": {
      "text/plain": [
       "0.37243661813582774"
      ]
     },
     "execution_count": 6,
     "metadata": {},
     "output_type": "execute_result"
    }
   ],
   "source": [
    "clf = LinearRegression()\n",
    "clf.fit(FaX_train,Fay_train)\n",
    "clf.score(FaX_test,Fay_test)"
   ]
  },
  {
   "cell_type": "code",
   "execution_count": 7,
   "metadata": {},
   "outputs": [
    {
     "data": {
      "text/plain": [
       "0.7003904085958721"
      ]
     },
     "execution_count": 7,
     "metadata": {},
     "output_type": "execute_result"
    }
   ],
   "source": [
    "#This is inaccurate because I had to convert the dataset into ints values be cautious \n",
    "clf = LinearRegression()\n",
    "clf.fit(LdaX_train,Lday_train)\n",
    "clf.score(LdaX_test,Lday_test)"
   ]
  },
  {
   "cell_type": "code",
   "execution_count": 14,
   "metadata": {},
   "outputs": [
    {
     "name": "stdout",
     "output_type": "stream",
     "text": [
      "0.04171263245213286\n",
      "0.341177977307781\n",
      "0.5359113316325848\n"
     ]
    }
   ],
   "source": [
    "#Using sklearn instead\n",
    "#Combining sigmoid function and the three dimension reduction\n",
    "from sklearn.neural_network import MLPRegressor\n",
    "\n",
    "NNsigmFA_reg = MLPRegressor(activation='logistic',solver='sgd',max_iter=1000)\n",
    "\n",
    "NNsigmFA_reg.fit(FaX_train,Fay_train)\n",
    "\n",
    "NNsigmFA_reg.predict(FaX_test)\n",
    "print(NNsigmFA_reg.score(FaX_test,Fay_test))\n",
    "\n",
    "NNsigmPCA_reg = MLPRegressor(activation='logistic',solver='sgd',max_iter=1000)\n",
    "\n",
    "NNsigmPCA_reg.fit(PcaX_train,Pcay_train)\n",
    "\n",
    "NNsigmPCA_reg.predict(PcaX_test)\n",
    "print(NNsigmPCA_reg.score(PcaX_test,Pcay_test))\n",
    "\n",
    "NNsigmLDA_reg = MLPRegressor(activation='logistic',solver='sgd',max_iter=1000)\n",
    "\n",
    "NNsigmLDA_reg.fit(LdaX_train,Lday_train)\n",
    "\n",
    "NNsigmLDA_reg.predict(LdaX_test)\n",
    "print(NNsigmPCA_reg.score(LdaX_test,Lday_test))"
   ]
  },
  {
   "cell_type": "code",
   "execution_count": 15,
   "metadata": {},
   "outputs": [
    {
     "name": "stderr",
     "output_type": "stream",
     "text": [
      "C:\\Program Files (x86)\\Microsoft Visual Studio\\Shared\\Anaconda3_64\\lib\\site-packages\\sklearn\\neural_network\\_base.py:194: RuntimeWarning: overflow encountered in square\n",
      "  return ((y_true - y_pred) ** 2).mean() / 2\n",
      "C:\\Program Files (x86)\\Microsoft Visual Studio\\Shared\\Anaconda3_64\\lib\\site-packages\\sklearn\\neural_network\\multilayer_perceptron.py:106: RuntimeWarning: invalid value encountered in add\n",
      "  activations[i + 1] += self.intercepts_[i]\n",
      "C:\\Program Files (x86)\\Microsoft Visual Studio\\Shared\\Anaconda3_64\\lib\\site-packages\\sklearn\\neural_network\\multilayer_perceptron.py:564: ConvergenceWarning: Stochastic Optimizer: Maximum iterations (1000) reached and the optimization hasn't converged yet.\n",
      "  % self.max_iter, ConvergenceWarning)\n"
     ]
    },
    {
     "name": "stdout",
     "output_type": "stream",
     "text": [
      "0.04171263245213286\n",
      "0.341177977307781\n",
      "0.5359113316325848\n"
     ]
    }
   ],
   "source": [
    "#Combining relu function and the three dimension reduction\n",
    "NNreluFA_reg = MLPRegressor(activation='relu',solver='sgd',max_iter=1000)\n",
    "\n",
    "NNreluFA_reg.fit(FaX_train,Fay_train)\n",
    "\n",
    "NNreluFA_reg.predict(FaX_test)\n",
    "print(NNsigmFA_reg.score(FaX_test,Fay_test))\n",
    "\n",
    "\n",
    "NNreluPCA_reg = MLPRegressor(activation='relu',solver='sgd',max_iter=1000)\n",
    "\n",
    "NNreluPCA_reg.fit(PcaX_train,Pcay_train)\n",
    "\n",
    "NNreluPCA_reg.predict(PcaX_test)\n",
    "print(NNsigmPCA_reg.score(PcaX_test,Pcay_test))\n",
    "\n",
    "NNreluLDA_reg = MLPRegressor(activation='relu',solver='sgd',max_iter=1000)\n",
    "\n",
    "NNreluLDA_reg.fit(LdaX_train,Lday_train)\n",
    "\n",
    "NNreluLDA_reg.predict(LdaX_test)\n",
    "print(NNsigmPCA_reg.score(LdaX_test,Lday_test))"
   ]
  },
  {
   "cell_type": "code",
   "execution_count": 16,
   "metadata": {},
   "outputs": [
    {
     "name": "stdout",
     "output_type": "stream",
     "text": [
      "0.04171263245213286\n",
      "0.341177977307781\n",
      "0.5359113316325848\n"
     ]
    }
   ],
   "source": [
    "#Combining tanh function and the three dimension reduction\n",
    "NNtanhFA_reg = MLPRegressor(activation='tanh',solver='sgd',max_iter=1000)\n",
    "\n",
    "NNtanhFA_reg.fit(FaX_train,Fay_train)\n",
    "\n",
    "NNtanhFA_reg.predict(FaX_test)\n",
    "print(NNsigmFA_reg.score(FaX_test,Fay_test))\n",
    "\n",
    "NNtanhPCA_reg = MLPRegressor(activation='tanh',solver='sgd',max_iter=1000)\n",
    "\n",
    "NNtanhPCA_reg.fit(PcaX_train,Pcay_train)\n",
    "\n",
    "NNtanhPCA_reg.predict(PcaX_test)\n",
    "print(NNsigmPCA_reg.score(PcaX_test,Pcay_test))\n",
    "\n",
    "NNtanhLDA_reg = MLPRegressor(activation='tanh',solver='sgd',max_iter=1000)\n",
    "\n",
    "NNtanhLDA_reg.fit(LdaX_train,Lday_train)\n",
    "\n",
    "NNtanhLDA_reg.predict(LdaX_test)\n",
    "print(NNsigmPCA_reg.score(LdaX_test,Lday_test))"
   ]
  },
  {
   "cell_type": "code",
   "execution_count": null,
   "metadata": {
    "collapsed": true
   },
   "outputs": [],
   "source": []
  }
 ],
 "metadata": {
  "kernelspec": {
   "display_name": "Python 3",
   "language": "python",
   "name": "python3"
  },
  "language_info": {
   "codemirror_mode": {
    "name": "ipython",
    "version": 3
   },
   "file_extension": ".py",
   "mimetype": "text/x-python",
   "name": "python",
   "nbconvert_exporter": "python",
   "pygments_lexer": "ipython3",
   "version": "3.6.2"
  }
 },
 "nbformat": 4,
 "nbformat_minor": 2
}

{
 "cells": [
  {
   "cell_type": "code",
   "execution_count": 30,
   "metadata": {},
   "outputs": [
    {
     "name": "stdout",
     "output_type": "stream",
     "text": [
      "[['0.07999999821186' '46.8400001525878' '47.9799995422363' ... '0.567'\n",
      "  '0.483' '0.431']\n",
      " ['0.25999999046325' '69.0199966430664' '27.7600002288818' ... '0.726'\n",
      "  '0.686' '0.631']\n",
      " ['0.82999998331069' '70.8799972534179' '22.5300006866455' ... '0.7'\n",
      "  '0.631' '0.542']\n",
      " ...\n",
      " [nan nan nan ... nan nan nan]\n",
      " [nan nan nan ... nan nan nan]\n",
      " [nan nan nan ... nan nan nan]]\n"
     ]
    }
   ],
   "source": [
    "import pandas as pd\n",
    "import matplotlib.pyplot as plt\n",
    "import math\n",
    "import numpy as np\n",
    "from sklearn.model_selection import train_test_split\n",
    "from sklearn.preprocessing import StandardScaler\n",
    "\n",
    "#Dressing The Data Set\n",
    "df = pd.read_csv('Most-Recent-Cohorts-Treasury-Elements.csv')\n",
    "dictionary = {str:0} # helps replace string and null entries with 0 \n",
    "column_selector=[] # picks columns 5 thru 12 and 14 through the rest\n",
    "for i in range(92):\n",
    "        if(i<5 or i==13): #these columns are exclude from the dataset\n",
    "            column_selector.append(False)\n",
    "        else:\n",
    "            column_selector.append(True) #these are accepted\n",
    "\n",
    "    \n",
    "PcaX = df.iloc[:, column_selector ].values   # features\n",
    "Pcay = df.iloc[:, 13].values #target\n",
    "\n",
    "\n",
    "#LdaX = df.iloc[:, :13].values   # Using 1:2 as indices will give us np array of dim (10, 1)\n",
    "#Lday = df.iloc[:, 13].values\n",
    "\n",
    "#FaX = df.iloc[:, :13].values   # Using 1:2 as indices will give us np array of dim (10, 1)\n",
    "#Fay = df.iloc[:, 13].values\n",
    "\n",
    "\n",
    "#convert_dictonary = {1:-1,0:1}\n",
    "#y = df.loc[:,'bad_loans']\n",
    "#y = y.apply(lambda x: convert_dictonary[x])\n",
    "#y = y.as_matrix()\n",
    "\n",
    "\n",
    "print (PcaX)\n",
    "\n",
    "\n",
    "\n",
    "PcaX_train, PcaX_test, Pcay_train, Pcay_test = train_test_split(PcaX, Pcay, test_size=0.25)\n",
    "#LdaX_train, LdaX_test, Lday_train, Lday_test = train_test_split(LdaX, Lday, test_size=0.25)\n",
    "#FaX_train, FaX_test, Fay_train, Fay_test = train_test_split(FaX, Fay, test_size=0.25)\n"
   ]
  },
  {
   "cell_type": "code",
   "execution_count": null,
   "metadata": {},
   "outputs": [],
   "source": [
    "#Principal Component Analysis\n",
    "# Always scale data for good results on PCA\n",
    "\n",
    "\n",
    "\n",
    "PcaX_scale = StandardScaler()\n",
    "PcaX_train = PcaX_scale.fit_transform(PcaX_train)\n",
    "PcaX_test = PcaX_scale.transform(X_test)\n",
    "\n",
    "#PCA Part\n",
    "from sklearn.decomposition import PCA\n",
    "pca = PCA(n_components=None)\n",
    "pca.fit_transform(X_train)\n",
    "pca = PCA(n_components=2)\n",
    "PcaX_train = pca.fit_transform(PcaX_train)\n",
    "PcaX_test = pca.transform(PcaX_test)\n",
    "\n",
    "\n",
    "\n",
    "plt.scatter([x[0] for x in X_train], [x[1] for x in X_train])\n",
    "plt.show()\n",
    "\n"
   ]
  },
  {
   "cell_type": "code",
   "execution_count": null,
   "metadata": {},
   "outputs": [],
   "source": [
    "\n",
    "\n",
    "# Split in training and testing\n",
    "\n",
    "\n",
    "\n",
    "# Scale\n",
    "LdaX_scale = StandardScaler()\n",
    "LdaX_train = LdaX_scale.fit_transform(LdaX_train)\n",
    "LdaX_test = LdaX_scale.transform(LdaX_test)\n",
    "\n",
    "from sklearn.discriminant_analysis import LinearDiscriminantAnalysis\n",
    "lda = LinearDiscriminantAnalysis(n_components=2)\n",
    "# since LDA is supervised, also need to pass y_train\n",
    "LdaX_train = lda.fit_transform(LdaX_train, Lday_train)\n",
    "LdaX_test = lda.transform(LdaX_test)\n",
    "\n",
    "plt.scatter([x[0] for x in X_train], [x[1] for x in LdaX_train])\n",
    "plt.show()\n",
    "\n",
    "\n",
    "\n"
   ]
  },
  {
   "cell_type": "code",
   "execution_count": null,
   "metadata": {},
   "outputs": [],
   "source": [
    "\n",
    "\n",
    "\n",
    "# Split in training and testing\n",
    "\n",
    "\n",
    "# Always scale data for good results on PCA\n",
    "FaX_scale = StandardScaler()\n",
    "FaX_train = FaX_scale.fit_transform(FaX_train)\n",
    "FaX_test = FaX_scale.transform(FaX_test)\n",
    "\n",
    "from sklearn.decomposition import FactorAnalysis\n",
    "fa = FactorAnalysis(n_components=2)\n",
    "FaX_train = fa.fit_transform(FaX_train)\n",
    "FaX_test = fa.transform(FaX_test)\n",
    "\n",
    "plt.scatter([x[0] for x in X_train], [x[1] for x in FaX_train])\n",
    "plt.show()\n",
    "\n",
    "\n",
    "\n"
   ]
  },
  {
   "cell_type": "code",
   "execution_count": null,
   "metadata": {},
   "outputs": [],
   "source": [
    "from sklearn.linear_model import LogisticRegression\n",
    "clf = LogisticRegression(random_state=0)\n",
    "clf.fit(X_train, y_train)\n",
    "\n",
    "y_pred = clf.predict(X_test)"
   ]
  }
 ],
 "metadata": {
  "kernelspec": {
   "display_name": "Python 3",
   "language": "python",
   "name": "python3"
  },
  "language_info": {
   "codemirror_mode": {
    "name": "ipython",
    "version": 3
   },
   "file_extension": ".py",
   "mimetype": "text/x-python",
   "name": "python",
   "nbconvert_exporter": "python",
   "pygments_lexer": "ipython3",
   "version": "3.6.5"
  }
 },
 "nbformat": 4,
 "nbformat_minor": 2
}

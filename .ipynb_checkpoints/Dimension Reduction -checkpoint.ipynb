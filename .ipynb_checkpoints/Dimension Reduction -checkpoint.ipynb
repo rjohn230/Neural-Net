{
 "cells": [
  {
   "cell_type": "code",
   "execution_count": 22,
   "metadata": {},
   "outputs": [],
   "source": [
    "import pandas as pd\n",
    "import matplotlib.pyplot as plt\n",
    "import numpy as np\n",
    "from sklearn.model_selection import train_test_split\n",
    "from sklearn.preprocessing import StandardScaler\n",
    "from sklearn.linear_model import LinearRegression\n",
    "\n",
    "#Dressing The Data Set\n",
    "df = pd.read_csv('Most-Recent-Cohorts-Treasury-Elements.csv')\n",
    "column_selector=[] # picks columns 5 thru 12 and 14 through the rest\n",
    "for i in range(92):\n",
    "        if(i<5 or i==13): #these columns are exclude from the dataset\n",
    "            column_selector.append(False)\n",
    "        else:\n",
    "            column_selector.append(True) #these are accepted\n",
    "\n",
    "X = df.iloc[:, column_selector ].values   # features\n",
    "y = df.iloc[:, 13].values #target MEDIAN HH INC\n",
    "    \n",
    "PcaX = df.iloc[:, column_selector ].values   # features\n",
    "Pcay = df.iloc[:, 13].values #target MEDIAN HH INC\n",
    "\n",
    "\n",
    "LdaX = df.iloc[:, column_selector].values   \n",
    "Lday = df.iloc[:, 13].values\n",
    "\n",
    "FaX = df.iloc[:, column_selector].values  \n",
    "Fay = df.iloc[:, 13].values\n",
    "\n",
    "\n",
    "\n",
    "\n",
    "PcaX_train, PcaX_test, Pcay_train, Pcay_test = train_test_split(PcaX, Pcay, test_size=0.25)\n",
    "X_train, X_test, y_train, y_test = train_test_split(X, y, test_size=0.25)\n",
    "LdaX_train, LdaX_test, Lday_train, Lday_test = train_test_split(LdaX, Lday, test_size=0.25)\n",
    "FaX_train, FaX_test, Fay_train, Fay_test = train_test_split(FaX, Fay, test_size=0.25)\n"
   ]
  },
  {
   "cell_type": "code",
   "execution_count": 23,
   "metadata": {},
   "outputs": [],
   "source": [
    "#Principal Component Analysis\n",
    "# Always scale data for good results on PCA\n",
    "\n",
    "\n",
    "\n",
    "PcaX_scale = StandardScaler()\n",
    "PcaX_train = PcaX_scale.fit_transform(PcaX_train)\n",
    "PcaX_test = PcaX_scale.transform(PcaX_test)\n",
    "\n",
    "#PCA Part\n",
    "from sklearn.decomposition import PCA\n",
    "pca = PCA(n_components=None)\n",
    "pca.fit_transform(PcaX_train)\n",
    "pca = PCA(n_components=2)\n",
    "PcaX_train = pca.fit_transform(PcaX_train)\n",
    "PcaX_test = pca.transform(PcaX_test)\n",
    "\n",
    "\n",
    "\n",
    "\n",
    "\n"
   ]
  },
  {
   "cell_type": "code",
   "execution_count": 24,
   "metadata": {},
   "outputs": [
    {
     "name": "stderr",
     "output_type": "stream",
     "text": [
      "C:\\Users\\rrjoh\\Anaconda3\\lib\\site-packages\\sklearn\\discriminant_analysis.py:442: UserWarning: The priors do not sum to 1. Renormalizing\n",
      "  UserWarning)\n",
      "C:\\Users\\rrjoh\\Anaconda3\\lib\\site-packages\\sklearn\\discriminant_analysis.py:388: UserWarning: Variables are collinear.\n",
      "  warnings.warn(\"Variables are collinear.\")\n"
     ]
    }
   ],
   "source": [
    "\n",
    "\n",
    "# Split in training and testing\n",
    "\n",
    "\n",
    "\n",
    "# Scale\n",
    "LdaX_scale = StandardScaler()\n",
    "LdaX_train = LdaX_scale.fit_transform(LdaX_train)\n",
    "LdaX_test = LdaX_scale.transform(LdaX_test)\n",
    "\n",
    "from sklearn.discriminant_analysis import LinearDiscriminantAnalysis\n",
    "lda = LinearDiscriminantAnalysis(n_components=2)\n",
    "# since LDA is supervised, also need to pass y_train\n",
    "LdaX_train = lda.fit_transform(LdaX_train.astype(int), Lday_train.astype(int))\n",
    "LdaX_test = lda.transform(LdaX_test)\n",
    "\n",
    "\n",
    "\n",
    "\n",
    "\n"
   ]
  },
  {
   "cell_type": "code",
   "execution_count": 62,
   "metadata": {},
   "outputs": [
    {
     "name": "stderr",
     "output_type": "stream",
     "text": [
      "C:\\Users\\rrjoh\\Anaconda3\\lib\\site-packages\\sklearn\\decomposition\\factor_analysis.py:215: RuntimeWarning: divide by zero encountered in log\n",
      "  ll = llconst + np.sum(np.log(s))\n",
      "C:\\Users\\rrjoh\\Anaconda3\\lib\\site-packages\\sklearn\\decomposition\\factor_analysis.py:219: RuntimeWarning: invalid value encountered in double_scalars\n",
      "  if (ll - old_ll) < self.tol:\n",
      "C:\\Users\\rrjoh\\Anaconda3\\lib\\site-packages\\sklearn\\decomposition\\factor_analysis.py:228: ConvergenceWarning: FactorAnalysis did not converge. You might want to increase the number of iterations.\n",
      "  ConvergenceWarning)\n"
     ]
    }
   ],
   "source": [
    "\n",
    "\n",
    "\n",
    "# Split in training and testing\n",
    "\n",
    "\n",
    "# Always scale data for good results on PCA\n",
    "FaX_scale = StandardScaler()\n",
    "FaX_train = FaX_scale.fit_transform(FaX_train)\n",
    "FaX_test = FaX_scale.transform(FaX_test)\n",
    "\n",
    "from sklearn.decomposition import FactorAnalysis\n",
    "fa = FactorAnalysis(n_components=1)\n",
    "FaX_train = fa.fit_transform(FaX_train)\n",
    "FaX_test = fa.transform(FaX_test)\n",
    "\n",
    "\n",
    "\n",
    "\n",
    "\n"
   ]
  },
  {
   "cell_type": "code",
   "execution_count": 63,
   "metadata": {},
   "outputs": [
    {
     "name": "stdout",
     "output_type": "stream",
     "text": [
      "1.084735845481808\n"
     ]
    }
   ],
   "source": [
    "\n",
    "\n",
    "clf = LinearRegression()\n",
    "clf.fit(PcaX_train,Pcay_train)\n",
    "y_pred = clf.predict(PcaX_test)\n",
    "clf.score(PcaX_test,Pcay_test)\n",
    "\n",
    "errs = y_pred-Pcay_test\n",
    "\n",
    "print(np.sqrt(np.absolute(np.average(errs/100))))\n"
   ]
  },
  {
   "cell_type": "code",
   "execution_count": 64,
   "metadata": {},
   "outputs": [
    {
     "data": {
      "text/plain": [
       "-0.0012470758417215677"
      ]
     },
     "execution_count": 64,
     "metadata": {},
     "output_type": "execute_result"
    }
   ],
   "source": [
    "clf = LinearRegression()\n",
    "clf.fit(X_train,y_train)\n",
    "clf.score(X_test,y_test)"
   ]
  },
  {
   "cell_type": "code",
   "execution_count": 54,
   "metadata": {},
   "outputs": [
    {
     "data": {
      "text/plain": [
       "0.5547644608858031"
      ]
     },
     "execution_count": 54,
     "metadata": {},
     "output_type": "execute_result"
    }
   ],
   "source": [
    "#This is inaccurate because I had to convert the dataset into ints values be cautious \n",
    "clf = LinearRegression()\n",
    "clf.fit(LdaX_train,Lday_train)\n",
    "clf.score(LdaX_test,Lday_test)"
   ]
  },
  {
   "cell_type": "code",
   "execution_count": null,
   "metadata": {},
   "outputs": [],
   "source": []
  },
  {
   "cell_type": "code",
   "execution_count": null,
   "metadata": {},
   "outputs": [],
   "source": []
  }
 ],
 "metadata": {
  "kernelspec": {
   "display_name": "Python 3",
   "language": "python",
   "name": "python3"
  },
  "language_info": {
   "codemirror_mode": {
    "name": "ipython",
    "version": 3
   },
   "file_extension": ".py",
   "mimetype": "text/x-python",
   "name": "python",
   "nbconvert_exporter": "python",
   "pygments_lexer": "ipython3",
   "version": "3.6.5"
  }
 },
 "nbformat": 4,
 "nbformat_minor": 2
}
